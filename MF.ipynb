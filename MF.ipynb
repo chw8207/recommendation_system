{
 "cells": [
  {
   "cell_type": "code",
   "execution_count": 11,
   "metadata": {},
   "outputs": [],
   "source": [
    "import tensorflow as tf\n",
    "import pandas as pd\n",
    "import numpy as np\n",
    "from sklearn.utils import shuffle"
   ]
  },
  {
   "cell_type": "markdown",
   "metadata": {},
   "source": [
    "### GPU 설정"
   ]
  },
  {
   "cell_type": "code",
   "execution_count": 2,
   "metadata": {},
   "outputs": [
    {
     "name": "stdout",
     "output_type": "stream",
     "text": [
      "Found GPU at: /device:GPU:0\n"
     ]
    }
   ],
   "source": [
    "device_name = tf.test.gpu_device_name()\n",
    "if device_name != '/device:GPU:0' :\n",
    "    raise SystemError('GPU device not found')\n",
    "print(f'Found GPU at: {device_name}')"
   ]
  },
  {
   "cell_type": "code",
   "execution_count": 3,
   "metadata": {},
   "outputs": [
    {
     "name": "stdout",
     "output_type": "stream",
     "text": [
      "[name: \"/device:CPU:0\"\n",
      "device_type: \"CPU\"\n",
      "memory_limit: 268435456\n",
      "locality {\n",
      "}\n",
      "incarnation: 8392081226629038239\n",
      "xla_global_id: -1\n",
      ", name: \"/device:GPU:0\"\n",
      "device_type: \"GPU\"\n",
      "memory_limit: 2255906407\n",
      "locality {\n",
      "  bus_id: 1\n",
      "  links {\n",
      "  }\n",
      "}\n",
      "incarnation: 4688779042301509132\n",
      "physical_device_desc: \"device: 0, name: NVIDIA GeForce GTX 1650 Ti, pci bus id: 0000:01:00.0, compute capability: 7.5\"\n",
      "xla_global_id: 416903419\n",
      "]\n"
     ]
    }
   ],
   "source": [
    "from tensorflow.python.client import device_lib\n",
    "\n",
    "print(device_lib.list_local_devices())"
   ]
  },
  {
   "cell_type": "markdown",
   "metadata": {},
   "source": [
    "### SGD를 사용한 MF 기본 알고리즘"
   ]
  },
  {
   "cell_type": "code",
   "execution_count": 4,
   "metadata": {},
   "outputs": [],
   "source": [
    "r_cols = ['user_id', 'movie_id', 'rating', 'timestamp']\n",
    "ratings = pd.read_csv('./data/u.data', names=r_cols, sep='\\t', encoding='latin-1')\n",
    "ratings = ratings[['user_id', 'movie_id', 'rating']].astype(int)"
   ]
  },
  {
   "cell_type": "code",
   "execution_count": 10,
   "metadata": {},
   "outputs": [
    {
     "name": "stdout",
     "output_type": "stream",
     "text": [
      "Iteration: 10 ; Train RMSE = 0.9585\n",
      "Iteration: 20 ; Train RMSE = 0.9374\n",
      "Iteration: 30 ; Train RMSE = 0.9281\n",
      "Iteration: 40 ; Train RMSE = 0.9226\n",
      "Iteration: 50 ; Train RMSE = 0.9185\n",
      "Iteration: 60 ; Train RMSE = 0.9147\n",
      "Iteration: 70 ; Train RMSE = 0.9103\n",
      "Iteration: 80 ; Train RMSE = 0.9045\n",
      "Iteration: 90 ; Train RMSE = 0.8961\n",
      "Iteration: 100 ; Train RMSE = 0.8847\n"
     ]
    }
   ],
   "source": [
    "# MF class\n",
    "class MF() : \n",
    "    def __init__(self, ratings, K, alpha, beta, iterations, verbose=True) : \n",
    "        self.R = np.array(ratings)\n",
    "        self.num_users, self.num_items = np.shape(self.R)\n",
    "        # 아래는 파라미터로 받아본 변수를 클래스에 저장하는 부분\n",
    "        self.K = K\n",
    "        self.alpha = alpha\n",
    "        self.beta = beta \n",
    "        self.iterations = iterations\n",
    "        self.verbose = verbose\n",
    "    \n",
    "    # RMSE 계산\n",
    "    def rmse(self) : \n",
    "        xs, ys = self.R.nonzero()\n",
    "        self.predictions = []\n",
    "        self.errors = []\n",
    "        for x, y in zip(xs, ys) : \n",
    "            prediction = self.get_prediction(x, y)\n",
    "            self.predictions.append(prediction)\n",
    "            self.errors.append(self.R[x,y] - prediction)\n",
    "        self.predictions = np.array(self.predictions)\n",
    "        self.errors = np.array(self.errors)\n",
    "        return np.sqrt(np.mean(self.errors**2))\n",
    "     \n",
    "    def train(self) :\n",
    "        # 사용자-특징, 영화-특징 행렬 초기화\n",
    "        self.P = np.random.normal(scale=1./self.K, size=(self.num_users, self.K)) \n",
    "        self.Q = np.random.normal(scale=1./self.K, size=(self.num_items, self.K)) \n",
    "\n",
    "        # bias term 초기화\n",
    "        self.b_u = np.zeros(self.num_users)\n",
    "        self.b_d = np.zeros(self.num_items)\n",
    "        self.b = np.mean(self.R[self.R.nonzero()])\n",
    "\n",
    "        # training samples의 리스트\n",
    "        rows, columns = self.R.nonzero()\n",
    "        # SGD를 적용할 대상(평점이 있는 요소의 인덱스와 평점)을 인덱스로 만들어 sample에 저장하기\n",
    "        self.samples = [(i, j, self.R[i,j]) for i, j in zip(rows, columns)]\n",
    "\n",
    "        # SGD\n",
    "        training_process = []\n",
    "        for i in range(self.iterations) : \n",
    "            np.random.shuffle(self.samples)\n",
    "            self.sgd()\n",
    "            rmse = self.rmse()\n",
    "            training_process.append((i+1, rmse))\n",
    "            if self.verbose : \n",
    "                if (i+1) % 10 == 0 : \n",
    "                    print('Iteration: %d ; Train RMSE = %.4f' % (i+1, rmse))\n",
    "        return training_process\n",
    "    \n",
    "    # 사용자 i와 아이템 j에 대한 평점 예측\n",
    "    def get_prediction(self, i, j) : \n",
    "        prediction = self.b + self.b_u[i] + self.b_d[j] + self.P[i,:].dot(self.Q[j,:].T)\n",
    "        return prediction\n",
    "    \n",
    "    # 최적화된 P와 Q 행렬을 얻기위한 SGD\n",
    "    def sgd(self) : \n",
    "        for i, j, r in self.samples : \n",
    "            prediction = self.get_prediction(i, j)\n",
    "            e = (r - prediction)\n",
    "            \n",
    "            self.b_u[i] += self.alpha * (e - self.beta * self.b_u[i])\n",
    "            self.b_d[j] += self.alpha * (e - self.beta * self.b_d[j])\n",
    "\n",
    "            self.P[i,:] += self.alpha * (e * self.Q[j,:] - self.beta * self.P[i,:])\n",
    "            self.Q[j,:] += self.alpha * (e * self.P[i,:] - self.beta * self.Q[j,:])\n",
    "\n",
    "# 전체 데이터 사용 MF\n",
    "R_temp = ratings.pivot(index='user_id', columns='movie_id', values='rating').fillna(0)\n",
    "mf = MF(R_temp, K=30, alpha=0.001, beta=0.02, iterations=100, verbose=True) \n",
    "train_process = mf.train()   \n",
    "\n",
    "\n"
   ]
  },
  {
   "cell_type": "markdown",
   "metadata": {},
   "source": [
    "### train/test 분리 MF 알고리즘"
   ]
  },
  {
   "cell_type": "code",
   "execution_count": 12,
   "metadata": {},
   "outputs": [],
   "source": [
    "## train tes 분리\n",
    "train_size = 0.75\n",
    "ratings = shuffle(ratings, random_state=1)\n",
    "# 전체 데이터 중 train_size 비율에 해당하는 데이터가 몇 개인지 계산\n",
    "cutoff = int(train_size * len(ratings))\n",
    "ratings_train = ratings.iloc[:cutoff]\n",
    "ratings_test = ratings.iloc[cutoff:]\n"
   ]
  },
  {
   "cell_type": "code",
   "execution_count": 33,
   "metadata": {},
   "outputs": [],
   "source": [
    "## New MF class for training & testing\n",
    "class NEW_MF() : \n",
    "    def __init__(self, ratings, K, alpha, beta, iterations, verbose=True) :\n",
    "        self.R = np.array(ratings)\n",
    "\n",
    "        # user_id, item_id를 R의 index와 매핑하기 위한 dictionary 생성\n",
    "        item_id_index = []\n",
    "        index_item_id = []\n",
    "        for i, one_id in enumerate(ratings) : \n",
    "            item_id_index.append([one_id, i])\n",
    "            index_item_id.append([i, one_id])\n",
    "        self.item_id_index = dict(item_id_index)\n",
    "        self.index_item_id = dict(index_item_id)\n",
    "        \n",
    "        user_id_index = []\n",
    "        index_user_id = []\n",
    "        for i, one_id in enumerate(ratings.T) : \n",
    "            user_id_index.append([one_id, i])\n",
    "            index_user_id.append([i, one_id])\n",
    "        self.user_id_index = dict(user_id_index)\n",
    "        self.index_user_id = dict(index_user_id)\n",
    "\n",
    "        # 아래는 파라미터로 받아본 변수를 클래스에 저장하는 부분\n",
    "        self.num_users, self.num_items = np.shape(self.R)\n",
    "        self.K = K\n",
    "        self.alpha = alpha\n",
    "        self.beta = beta \n",
    "        self.iterations = iterations\n",
    "        self.verbose = verbose\n",
    "\n",
    "     # train set의 RMSE 계산\n",
    "    def rmse(self) : \n",
    "        xs, ys = self.R.nonzero()\n",
    "        self.predictions = []\n",
    "        self.errors = []\n",
    "        for x, y in zip(xs, ys) : \n",
    "            prediction = self.get_prediction(x, y)\n",
    "            self.predictions.append(prediction)\n",
    "            self.errors.append(self.R[x,y] - prediction)\n",
    "        self.predictions = np.array(self.predictions)\n",
    "        self.errors = np.array(self.errors)\n",
    "        return np.sqrt(np.mean(self.errors**2))\n",
    "        \n",
    "    # 사용자 i와 아이템 j에 대한 평점 예측\n",
    "    def get_prediction(self, i, j) :  \n",
    "        prediction = self.b + self.b_u[i] + self.b_d[j] + self.P[i,:].dot(self.Q[j,:].T)\n",
    "        return prediction\n",
    "        \n",
    "    # 최적화된 P와 Q 행렬을 얻기위한 SGD\n",
    "    def sgd(self) : \n",
    "        for i, j, r in self.samples : \n",
    "            prediction = self.get_prediction(i, j)\n",
    "            e = (r - prediction)\n",
    "            \n",
    "            self.b_u[i] += self.alpha * (e - self.beta * self.b_u[i])\n",
    "            self.b_d[j] += self.alpha * (e - self.beta * self.b_d[j])\n",
    "\n",
    "            self.P[i,:] += self.alpha * (e * self.Q[j,:] - self.beta * self.P[i,:])\n",
    "            self.Q[j,:] += self.alpha * (e * self.P[i,:] - self.beta * self.Q[j,:])\n",
    "\n",
    "    # test set을 설정하기\n",
    "    def set_test(self, ratings_test) : \n",
    "        test_set = []\n",
    "        for i in range(len(ratings_test)) : \n",
    "                # 현재 사용자의 인덱스\n",
    "                x = self.user_id_index[ratings_test.iloc[i,0]]\n",
    "                # 현재 아이템의 인덱스\n",
    "                y = self.item_id_index[ratings_test.iloc[i,1]]\n",
    "                # 현재 사용자-아이템의 평점\n",
    "                z = ratings_test.iloc[i,2]\n",
    "                test_set.append([x,y,z])\n",
    "                # test set을 R에서 지우고 학습시키기\n",
    "                self.R[x,y] = 0\n",
    "        self.test_set = test_set\n",
    "        return test_set\n",
    "        \n",
    "    # test set의 RMSE 계산하기\n",
    "    def test_rmse(self) : \n",
    "        error = 0\n",
    "        for one_set in self.test_set : \n",
    "            predicted = self.get_prediction(one_set[0], one_set[1])\n",
    "            error += pow(one_set[2] - predicted, 2)\n",
    "        return np.sqrt(error/len(self.test_set))\n",
    "        \n",
    "    # Training 하면서 test set의 정확도를 계산하기\n",
    "    def test(self) : \n",
    "        self.P = np.random.normal(scale=1./self.K, size=(self.num_users, self.K)) \n",
    "        self.Q = np.random.normal(scale=1./self.K, size=(self.num_items, self.K)) \n",
    "        \n",
    "        self.b_u = np.zeros(self.num_users)\n",
    "        self.b_d = np.zeros(self.num_items)\n",
    "        self.b = np.mean(self.R[self.R.nonzero()])\n",
    "\n",
    "        rows, columns = self.R.nonzero()\n",
    "        self.samples = [(i, j, self.R[i,j]) for i, j in zip(rows, columns)]\n",
    "        train_process = []\n",
    "        for i in range(self.iterations) : \n",
    "            np.random.shuffle(self.samples)\n",
    "            self.sgd()\n",
    "            # train set에 대한 rmse\n",
    "            rmse1 = self.rmse()\n",
    "             # test set에 대한 rmse\n",
    "            rmse2 = self.test_rmse()\n",
    "            train_process.append((i+1, rmse1, rmse2))\n",
    "            if self.verbose : \n",
    "                if (i+1) % 10 == 0 : \n",
    "                    print('Iteration: %d ; Train RMSE = %.4f ; Test RMSE = %.4f' % (i+1, rmse1, rmse2))\n",
    "        return train_process\n",
    "        \n",
    "    # 사용자 id와 item id에 대한 평점\n",
    "    def get_one_prediction(self, user_id, item_id) : \n",
    "        return self.get_prediction(self.user_id_index[user_id], self.item_id_index[item_id])\n",
    "        \n",
    "    def full_prediction(self) : \n",
    "        return self.b + self.b_u[:,np.newaxis] + self.b_d[np.newaxis,:] + self.P.dot(self.Q.T)"
   ]
  },
  {
   "cell_type": "code",
   "execution_count": 34,
   "metadata": {},
   "outputs": [
    {
     "name": "stdout",
     "output_type": "stream",
     "text": [
      "Iteration: 10 ; Train RMSE = 0.9659 ; Test RMSE = 0.9833\n",
      "Iteration: 20 ; Train RMSE = 0.9409 ; Test RMSE = 0.9644\n",
      "Iteration: 30 ; Train RMSE = 0.9297 ; Test RMSE = 0.9565\n",
      "Iteration: 40 ; Train RMSE = 0.9230 ; Test RMSE = 0.9523\n",
      "Iteration: 50 ; Train RMSE = 0.9182 ; Test RMSE = 0.9496\n",
      "Iteration: 60 ; Train RMSE = 0.9143 ; Test RMSE = 0.9478\n",
      "Iteration: 70 ; Train RMSE = 0.9106 ; Test RMSE = 0.9463\n",
      "Iteration: 80 ; Train RMSE = 0.9065 ; Test RMSE = 0.9450\n",
      "Iteration: 90 ; Train RMSE = 0.9015 ; Test RMSE = 0.9436\n",
      "Iteration: 100 ; Train RMSE = 0.8950 ; Test RMSE = 0.9418\n"
     ]
    }
   ],
   "source": [
    "# Testing MF RMSE\n",
    "R_temp = ratings.pivot(index='user_id', columns='movie_id', values='rating').fillna(0)\n",
    "mf = NEW_MF(R_temp, K=30, alpha=0.001, beta=0.02, iterations=100, verbose=True)\n",
    "test_set = mf.set_test(ratings_test)\n",
    "result = mf.test()"
   ]
  },
  {
   "cell_type": "code",
   "execution_count": 35,
   "metadata": {},
   "outputs": [
    {
     "name": "stdout",
     "output_type": "stream",
     "text": [
      "[[3.81456704 3.39955881 3.01575538 ... 3.35082414 3.46384769 3.48021864]\n",
      " [3.92994562 3.49535499 3.17491856 ... 3.42718266 3.56002825 3.55170363]\n",
      " [3.31407563 2.87926894 2.50510092 ... 2.82088511 2.94675491 2.92844423]\n",
      " ...\n",
      " [4.22361549 3.78334053 3.445505   ... 3.71299982 3.83687457 3.82290046]\n",
      " [4.36258552 3.90529707 3.56138743 ... 3.83735419 3.94818894 3.95092619]\n",
      " [3.73467333 3.38707024 3.02218866 ... 3.27880055 3.44099445 3.4042869 ]]\n",
      "3.3995588149813445\n"
     ]
    }
   ],
   "source": [
    "# 예측 확인하기\n",
    "print(mf.full_prediction())\n",
    "print(mf.get_one_prediction(1,2))"
   ]
  },
  {
   "cell_type": "code",
   "execution_count": null,
   "metadata": {},
   "outputs": [],
   "source": []
  }
 ],
 "metadata": {
  "kernelspec": {
   "display_name": "base",
   "language": "python",
   "name": "python3"
  },
  "language_info": {
   "codemirror_mode": {
    "name": "ipython",
    "version": 3
   },
   "file_extension": ".py",
   "mimetype": "text/x-python",
   "name": "python",
   "nbconvert_exporter": "python",
   "pygments_lexer": "ipython3",
   "version": "3.9.13"
  }
 },
 "nbformat": 4,
 "nbformat_minor": 2
}
